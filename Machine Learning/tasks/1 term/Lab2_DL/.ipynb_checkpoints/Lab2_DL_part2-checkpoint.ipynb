{
 "cells": [
  {
   "cell_type": "markdown",
   "metadata": {
    "colab_type": "text",
    "id": "sWClckaQ5Wrb"
   },
   "source": [
    "## Lab 3"
   ]
  },
  {
   "cell_type": "markdown",
   "metadata": {
    "colab_type": "text",
    "id": "OJ_8N_zm5Wrd"
   },
   "source": [
    "### Part 2. Almost Shakespeare (2.0 points)\n",
    "\n",
    "В этой части задания мы научимся генерировать текст с помощью нейронных сетей. Конкретнее, обучим нейронную сеть на сонетах Шекспира и попросим нейросеть написать свой сонет.\n",
    "\n",
    "Генерация текста обычно включает в себя следующие шаги:\n",
    "    \n",
    "1. Загрузка данных.\n",
    "2. Создание словарей слов/символов.\n",
    "3. Препроцессинг данных.\n",
    "4. Обучение модели (нейросети).\n",
    "5. Генерация нового текста.\n"
   ]
  },
  {
   "cell_type": "markdown",
   "metadata": {
    "colab_type": "text",
    "id": "MEmxwXPg5Wrf"
   },
   "source": [
    "#### Часть 1. Предобработка данных"
   ]
  },
  {
   "cell_type": "markdown",
   "metadata": {
    "colab_type": "text",
    "id": "5ZVZcieV5Wri"
   },
   "source": [
    "Для начала загрузим данные. Файл с сонетами Шекспира доступен по [ссылке](http://www.gutenberg.org/ebooks/1041?msg=welcome_stranger). Кроме того, он находится рядом с этим ноутбуком (`sonnetes.txt`).\n",
    "\n",
    "Базовая предобработка уже сделана: текст состоит непосредственно из поэм Шекспира и названий/номеров глав, все техническая информация удалена."
   ]
  },
  {
   "cell_type": "code",
   "execution_count": null,
   "metadata": {
    "colab": {},
    "colab_type": "code",
    "id": "59p9qo7m5Wrk"
   },
   "outputs": [],
   "source": [
    "import string\n",
    "\n",
    "import numpy as np\n",
    "\n",
    "import torch, torch.nn as nn\n",
    "from torch.optim import lr_scheduler, Adam\n",
    "from torch.utils.data import DataLoader\n",
    "\n",
    "import matplotlib.pyplot as plt\n",
    "\n",
    "from tqdm.notebook import tqdm\n",
    "import time\n",
    "\n",
    "import torch.nn.functional as F"
   ]
  },
  {
   "cell_type": "code",
   "execution_count": null,
   "metadata": {
    "colab": {},
    "colab_type": "code",
    "id": "AKgbKoG15Wrt"
   },
   "outputs": [],
   "source": [
    "with open('sonnets.txt', 'r') as iofile:\n",
    "    text = iofile.readlines()\n",
    "    \n",
    "TEXT_START = 45\n",
    "TEXT_END = -368\n",
    "text = text[TEXT_START:TEXT_END]\n",
    "assert len(text) == 2616"
   ]
  },
  {
   "cell_type": "markdown",
   "metadata": {
    "colab_type": "text",
    "id": "HigFNLt25Wr0"
   },
   "source": [
    "Так как в этот раз мы хотим научиться предсказывать текст, понизим сложность задачи и приведем текст к нижнему регистру.\n",
    "\n",
    "В настоящий момент переменная `text` представляет собой список из строк. Объедините все строки в одну и приведите к нижнему регистру. "
   ]
  },
  {
   "cell_type": "code",
   "execution_count": null,
   "metadata": {
    "colab": {},
    "colab_type": "code",
    "id": "AO9zFhFHEvd9"
   },
   "outputs": [],
   "source": [
    "device = torch.device(\"cuda:0\" if torch.cuda.is_available else 'cpu')\n",
    "print(device)"
   ]
  },
  {
   "cell_type": "code",
   "execution_count": null,
   "metadata": {
    "colab": {},
    "colab_type": "code",
    "id": "Z2QIRB-85Wr1"
   },
   "outputs": [],
   "source": [
    "text = ''.join(text).lower()"
   ]
  },
  {
   "cell_type": "code",
   "execution_count": null,
   "metadata": {
    "colab": {
     "base_uri": "https://localhost:8080/",
     "height": 34
    },
    "colab_type": "code",
    "id": "6EutkGoD5Wr7",
    "outputId": "f0973152-7804-4276-a6ac-79a7fc841c78"
   },
   "outputs": [],
   "source": [
    "# Объедините все строки в одну и приведите к нижнему регистру.\n",
    "# Результат запишите в переменную text.\n",
    "\n",
    "assert len(text) == 100225, 'Are you sure you have concatenated all the strings?'\n",
    "assert not any([x in set(text) for x in string.ascii_uppercase]), 'Uppercase letters are present'\n",
    "print('Отлично!')"
   ]
  },
  {
   "cell_type": "markdown",
   "metadata": {
    "colab_type": "text",
    "id": "WRO1vAFH5WsD"
   },
   "source": [
    "Выделите множество всех символов, с которыми нам довелось встретиться в переменную `tokens`."
   ]
  },
  {
   "cell_type": "code",
   "execution_count": null,
   "metadata": {
    "colab": {},
    "colab_type": "code",
    "id": "EOI8wPQl5WsE"
   },
   "outputs": [],
   "source": [
    "tokens = sorted(set(text))"
   ]
  },
  {
   "cell_type": "markdown",
   "metadata": {
    "colab_type": "text",
    "id": "ZuWRHLmA5WsK"
   },
   "source": [
    "Постройте словарь `token_to_idx` вида <символ>: <индекс> и словарь `idx_to_token` вида <индекс>: <символ>."
   ]
  },
  {
   "cell_type": "code",
   "execution_count": null,
   "metadata": {
    "colab": {},
    "colab_type": "code",
    "id": "Ti22WeMx5WsM"
   },
   "outputs": [],
   "source": [
    "# словарь вида <индекс>:<символ>\n",
    "token_to_idx = {tkn: i for i, tkn in enumerate(tokens)}\n",
    "\n",
    "# словарь вида <символ>:<индекс>\n",
    "idx_to_token = {i: tkn for i, tkn in enumerate(tokens)}"
   ]
  },
  {
   "cell_type": "markdown",
   "metadata": {
    "colab_type": "text",
    "id": "KW2hGnUQ5WsS"
   },
   "source": [
    "*Комментарий: т.к. у нас всего 38 различных токенов, в этот раз воспользуемся one-hot encoding'ом.*\n"
   ]
  },
  {
   "cell_type": "markdown",
   "metadata": {
    "colab_type": "text",
    "id": "VsGU5-8y5WsT"
   },
   "source": [
    "## Построение модели."
   ]
  },
  {
   "cell_type": "markdown",
   "metadata": {
    "colab_type": "text",
    "id": "g7CUgTIG5WsU"
   },
   "source": [
    "Теперь наша задача - создать и обучить рекуррентную нейронную сеть, которая сможет генерировать что-то похожее на поэзию Шекспира.\n",
    "\n",
    "Для начала воспользуемся классической RNN, аналогичной построенной на семинаре. "
   ]
  },
  {
   "cell_type": "markdown",
   "metadata": {
    "colab_type": "text",
    "id": "Z9r3RI5U5WsV"
   },
   "source": [
    "## RNN\n",
    "<br/>\n",
    "Скрытый элемент\n",
    "$$ h_t= tanh⁡ (W_{ℎℎ} h_{t−1}+W_{xh} x_t) $$\n",
    "Выход сети\n",
    "\n",
    "$$ y_t = W_{hy} h_t $$"
   ]
  },
  {
   "cell_type": "markdown",
   "metadata": {
    "colab_type": "text",
    "id": "i7dMQCOn5WsW"
   },
   "source": [
    "![1sa](data/rnn.png)"
   ]
  },
  {
   "cell_type": "code",
   "execution_count": 8,
   "metadata": {
    "colab": {},
    "colab_type": "code",
    "id": "f4PAs7Z_5WsX"
   },
   "outputs": [],
   "source": [
    "class RNN(nn.Module):\n",
    "    \n",
    "    def __init__(self, num_tokens=len(token_to_idx), embedding_size=100, rnn_num_units=200):\n",
    "        super(self.__class__,self).__init__()\n",
    "        self.num_units = rnn_num_units\n",
    "        \n",
    "        self.embedding = nn.Embedding(num_tokens, embedding_size)\n",
    "        self.rnn_update = nn.Linear(embedding_size + rnn_num_units, rnn_num_units)\n",
    "        self.rnn_to_logits = nn.Linear(rnn_num_units, num_tokens)\n",
    "        self.activation = nn.PReLU(num_parameters=self.num_units)\n",
    "        \n",
    "    def forward(self, x, h_prev):\n",
    "        \"\"\"\n",
    "        This method computes h_next(x, h_prev) and log P(x_next | h_next)\n",
    "        We'll call it repeatedly to produce the whole sequence.\n",
    "        \n",
    "        :param x: batch of character ids, containing vector of int64\n",
    "        :param h_prev: previous rnn hidden states, containing matrix [batch, rnn_num_units] of float32\n",
    "        \"\"\"\n",
    "\n",
    "        x_emb = self.embedding(x)\n",
    "        x_and_h = torch.cat([x_emb, h_prev], dim=-1)\n",
    "        h_next = self.rnn_update(x_and_h)\n",
    "        \n",
    "        h_next = self.activation(h_next)\n",
    "        logits = self.rnn_to_logits(h_next)\n",
    "        \n",
    "        return h_next, F.log_softmax(logits, -1)\n",
    "    \n",
    "    def initial_state(self, batch_size):\n",
    "        return torch.randn(batch_size, self.num_units, requires_grad=True).to(device)"
   ]
  },
  {
   "cell_type": "code",
   "execution_count": 9,
   "metadata": {
    "colab": {},
    "colab_type": "code",
    "id": "E5xP-ShX5Wse"
   },
   "outputs": [],
   "source": [
    "def to_matrix(tok_to_id, text, samples_num=5000, batch_len=300):\n",
    "    \n",
    "    return torch.tensor([[tok_to_id[tok] for tok in text[start:start+batch_len]]\n",
    "            for start in torch.randint(0, len(text) - batch_len, (samples_num,))]).to(device)"
   ]
  },
  {
   "cell_type": "code",
   "execution_count": 10,
   "metadata": {
    "colab": {},
    "colab_type": "code",
    "id": "nctl-0eQ5Wsi"
   },
   "outputs": [],
   "source": [
    "def rnn_loop(char_rnn, batch_ix):\n",
    "    \"\"\"\n",
    "    Computes log P(next_character) for all time-steps in names_ix\n",
    "    :param names_ix: an int32 matrix of shape [batch, time], output of to_matrix(names)\n",
    "    \"\"\"\n",
    "    batch_size, max_length = batch_ix.size()\n",
    "    hid_state = char_rnn.initial_state(batch_size)\n",
    "    logprobs = []\n",
    "\n",
    "    for x_t in batch_ix.transpose(0,1):\n",
    "        hid_state, logp_next = char_rnn(x_t, hid_state)  # <-- here we call your one-step code\n",
    "        logprobs.append(logp_next)\n",
    "        \n",
    "    return torch.stack(logprobs, dim=1)"
   ]
  },
  {
   "cell_type": "code",
   "execution_count": 14,
   "metadata": {
    "colab": {},
    "colab_type": "code",
    "id": "NU7vCcz15Wsl"
   },
   "outputs": [],
   "source": [
    "from IPython.display import clear_output\n",
    "\n",
    "batch_size = 200\n",
    "model = RNN()\n",
    "dataloader = DataLoader(to_matrix(token_to_idx, text), batch_size=batch_size, shuffle=True)\n",
    "optimizer = torch.optim.Adam(model.parameters(), lr=2e-3, weight_decay=1e-3)\n",
    "criterion = nn.CrossEntropyLoss()\n",
    "scheduler = lr_scheduler.StepLR(optimizer, step_size=20, gamma=0.7)"
   ]
  },
  {
   "cell_type": "code",
   "execution_count": 17,
   "metadata": {
    "colab": {},
    "colab_type": "code",
    "id": "fKkSmF5q5Wso"
   },
   "outputs": [],
   "source": [
    "def train_model(model, criterion, optimizer, scheduler, num_epochs=100):\n",
    "    \n",
    "    since = time.time()\n",
    "    model.to(device)\n",
    "    model.train()\n",
    "    \n",
    "    losses = []\n",
    "    for epoch in range(num_epochs):\n",
    "\n",
    "        running_loss = 0.0\n",
    "\n",
    "        for inputs in dataloader:\n",
    "            \n",
    "            inputs = inputs.to(device)\n",
    "            \n",
    "            optimizer.zero_grad()\n",
    "            logp_seq = rnn_loop(model, inputs)\n",
    "            #predictions_logp = logp_seq[:, :-1]\n",
    "            #actual_next_tokens = inputs[:, 1:]\n",
    "\n",
    "            logp_next = torch.gather(logp_seq[:, :-1], dim=2, index=inputs[:, 1:][:,:,None])\n",
    "\n",
    "            loss = -logp_next.mean()\n",
    "            loss.backward()\n",
    "            \n",
    "            optimizer.step()\n",
    "            optimizer.zero_grad()\n",
    "            running_loss += loss\n",
    "\n",
    "        scheduler.step()\n",
    "\n",
    "        epoch_loss = running_loss / len(dataloader)\n",
    "        losses.append(epoch_loss)\n",
    "        clear_output(True)\n",
    "        plt.plot(losses, label='current loss: {:.2}'.format(epoch_loss))\n",
    "        plt.legend()\n",
    "        plt.show()\n",
    "\n",
    "    time_elapsed = time.time() - since\n",
    "    print('Training complete in {:.0f}m {:.0f}s'.format(\n",
    "        time_elapsed // 60, time_elapsed % 60))\n",
    "    \n",
    "    return model, losses"
   ]
  },
  {
   "cell_type": "code",
   "execution_count": 18,
   "metadata": {
    "colab": {
     "base_uri": "https://localhost:8080/",
     "height": 409
    },
    "colab_type": "code",
    "id": "Oa-rxc8u5Wst",
    "outputId": "fd70cb90-7b80-49fd-8e44-709ea0a5a388"
   },
   "outputs": [
    {
     "data": {
      "image/png": "[encoded data removed]",
      "text/plain": [
       "<Figure size 432x288 with 1 Axes>"
      ]
     },
     "metadata": {
      "needs_background": "light"
     },
     "output_type": "display_data"
    },
    {
     "name": "stdout",
     "output_type": "stream",
     "text": [
      "Training complete in 10m 49s\n"
     ]
    }
   ],
   "source": [
    "model, losses = train_model(model, criterion, optimizer, scheduler)"
   ]
  },
  {
   "cell_type": "code",
   "execution_count": 28,
   "metadata": {
    "colab": {},
    "colab_type": "code",
    "id": "rgaBKlxr5Wsw"
   },
   "outputs": [],
   "source": [
    "def generate_sample(char_rnn, seed_phrase='hello my friends, ', max_length=500, temperature=1.0):\n",
    "    '''\n",
    "    The function generates text given a phrase of length at least SEQ_LENGTH.\n",
    "    :param seed_phrase: prefix characters. The RNN is asked to continue the phrase\n",
    "    :param max_length: maximum output length, including seed_phrase\n",
    "    :param temperature: coefficient for sampling.  higher temperature produces more chaotic outputs,\n",
    "                        smaller temperature converges to the single most likely output\n",
    "    '''\n",
    "    \n",
    "    x_sequence = [token_to_idx[token] for token in seed_phrase]\n",
    "    x_sequence = torch.tensor([x_sequence], dtype=torch.int64, device=device)\n",
    "    hid_state = char_rnn.initial_state(batch_size=1)\n",
    "    char_rnn.eval()\n",
    "    \n",
    "    for i in range(len(seed_phrase) - 1):\n",
    "        hid_state, _ = char_rnn(x_sequence[:, i], hid_state)\n",
    "    \n",
    "    for _ in range(max_length - len(seed_phrase)):\n",
    "        hid_state, logp_next = char_rnn(x_sequence[:, -1], hid_state)\n",
    "        p_next = F.softmax(logp_next / temperature, dim=-1).data.cpu().numpy()[0]\n",
    "        \n",
    "        next_ix = np.random.choice(len(token_to_idx), p=p_next)\n",
    "        next_ix = torch.tensor([[next_ix]], dtype=torch.int64, device=device)\n",
    "        x_sequence = torch.cat([x_sequence, next_ix], dim=1)\n",
    "        \n",
    "    return ''.join([tokens[ix] for ix in x_sequence.data.cpu().numpy()[0]])"
   ]
  },
  {
   "cell_type": "code",
   "execution_count": 29,
   "metadata": {
    "colab": {},
    "colab_type": "code",
    "id": "049eP62C5Wsz",
    "outputId": "9dc7c3c2-fa77-4e2a-fbc2-2ef45a2f8e41"
   },
   "outputs": [
    {
     "name": "stdout",
     "output_type": "stream",
     "text": [
      "hello my friends, i want to say that the world may be be their his brand,\n",
      "  that they thou speedes thee my seem\n",
      "  but beauty's so such make,\n",
      "  and thee, determ\n",
      "  i have i nothing strange do more than he thoughts and doth lie,\n",
      "  which thy self worth the thoughts and seen the lies a self-loss of me to the stars of thee that beauty art,\n",
      "  and ablit is the storm and thee, when thee to his belong;\n",
      "  which thou art,\n",
      "  as those that wear thou that my love is all my love of that i no mand of my heart to\n"
     ]
    }
   ],
   "source": [
    "print(generate_sample(model, seed_phrase='hello my friends, i want to say that', max_length=500, temperature=0.5))"
   ]
  },
  {
   "cell_type": "markdown",
   "metadata": {
    "colab_type": "text",
    "id": "jsejeGHA5Ws2"
   },
   "source": [
    "Постройте график функции потерь в зависимости от номера эпохи."
   ]
  },
  {
   "cell_type": "markdown",
   "metadata": {
    "colab_type": "text",
    "id": "4b2-mIoy5Ws3"
   },
   "source": [
    "### Более поэтичная модель\n",
    "\n",
    "Теперь давайте воспользуемся LSTM слоем вместо классической RNN и сравним результаты."
   ]
  },
  {
   "cell_type": "markdown",
   "metadata": {
    "colab_type": "text",
    "id": "LQMfIW7w5Ws4"
   },
   "source": [
    "Снова постройте график функции потерь от числа эпох. Стал ли финальный loss лучше?"
   ]
  },
  {
   "cell_type": "markdown",
   "metadata": {
    "colab_type": "text",
    "id": "Yn1mfl425Ws4"
   },
   "source": [
    "\n",
    "# LSTM\n",
    "Скрытый элемент\n",
    "$$ c'_t= tanh⁡ (W_{xc} x_{t}+W_{hc} h_{t-1} + b_{c'}) $$\n",
    "$$ i_t = \\sigma (W_{xi} x_{t}+W_{hi} h_{t-1} + b_i) $$\n",
    "$$ f_t= \\sigma (W_{xf} x_{t}+W_{hf} h_{t-1} + b_f) $$\n",
    "$$ o_t= \\sigma (W_{xo} x_{t}+W_{ho} h_{t-1} + b_o) $$\n",
    "$$ c_t= f_t * c_{t-1} + i_t * c'_t $$\n",
    "$$ h_t= o_t * tanh (c_t) $$\n",
    "\n",
    "Выход сети\n",
    "\n",
    "$$ y_t = W_{hy} h_t $$"
   ]
  },
  {
   "cell_type": "markdown",
   "metadata": {
    "colab_type": "text",
    "id": "IQ3VXj6w5Ws5"
   },
   "source": [
    "![1](data/lstm.png)"
   ]
  },
  {
   "cell_type": "code",
   "execution_count": 30,
   "metadata": {
    "colab": {},
    "colab_type": "code",
    "id": "oV7IGQnA5Ws5"
   },
   "outputs": [],
   "source": [
    "class LSTM(nn.Module):\n",
    "    \n",
    "    def __init__(self, num_tokens=len(token_to_idx), embedding_size=100, rnn_num_units=200):\n",
    "        super(self.__class__, self).__init__()\n",
    "        self.num_units = rnn_num_units\n",
    "        self.embedding = nn.Embedding(num_tokens, embedding_size)\n",
    "        \n",
    "        self.lstm = nn.LSTMCell(embedding_size, rnn_num_units)\n",
    "        self.fc = nn.Linear(in_features=rnn_num_units, out_features=len(token_to_idx))\n",
    "        \n",
    "    def forward(self, x, h_prev, c_prev):\n",
    "        \"\"\"\n",
    "        This method computes h_next(x, h_prev) and log P(x_next | h_next)\n",
    "        We'll call it repeatedly to produce the whole sequence.\n",
    "        \n",
    "        :param x: batch of character ids, containing vector of int64\n",
    "        :param h_prev: previous rnn hidden states, containing matrix [batch, rnn_num_units] of float32\n",
    "        \"\"\"\n",
    "        x_emb = self.embedding(x)\n",
    "        \n",
    "        h, c = self.lstm(x_emb, (h_prev, c_prev))\n",
    "        \n",
    "        output = self.fc(h)\n",
    "        \n",
    "        return h, c, F.log_softmax(output, -1)\n",
    "    \n",
    "    def initial_state(self, batch_size):\n",
    "        return torch.randn(batch_size, self.num_units, requires_grad=True).to(device), \\\n",
    "               torch.randn(batch_size, self.num_units, requires_grad=True).to(device)"
   ]
  },
  {
   "cell_type": "code",
   "execution_count": 31,
   "metadata": {
    "colab": {},
    "colab_type": "code",
    "id": "h5ZJp3p15Ws8"
   },
   "outputs": [],
   "source": [
    "def lstm_loop(model, batch_ix):\n",
    "    \"\"\"\n",
    "    Computes log P(next_character) for all time-steps in names_ix\n",
    "    :param names_ix: an int32 matrix of shape [batch, time], output of to_matrix(names)\n",
    "    \"\"\"\n",
    "    batch_size, max_length = batch_ix.size()\n",
    "    hid_state, cell_state = model.initial_state(batch_size)\n",
    "    logprobs = []\n",
    "\n",
    "    for x_t in batch_ix.transpose(0, 1):\n",
    "        hid_state, cell_state, logp_next = model(x_t, hid_state, cell_state)  # <-- here we call your one-step code\n",
    "        logprobs.append(logp_next)\n",
    "        \n",
    "    return torch.stack(logprobs, dim=1)"
   ]
  },
  {
   "cell_type": "code",
   "execution_count": 34,
   "metadata": {
    "colab": {},
    "colab_type": "code",
    "id": "TL9p-pJF5WtA"
   },
   "outputs": [],
   "source": [
    "model = LSTM()\n",
    "dataloader = DataLoader(to_matrix(token_to_idx, text), batch_size=batch_size, shuffle=True)\n",
    "optimizer = torch.optim.Adam(model.parameters(), lr=2e-1, weight_decay=1e-4)\n",
    "criterion = nn.CrossEntropyLoss()\n",
    "scheduler = lr_scheduler.StepLR(optimizer, step_size=20, gamma=0.5)"
   ]
  },
  {
   "cell_type": "code",
   "execution_count": 37,
   "metadata": {
    "colab": {},
    "colab_type": "code",
    "id": "CUiLQzk25WtE"
   },
   "outputs": [],
   "source": [
    "def train_model(model, criterion, optimizer, scheduler, num_epochs=100):\n",
    "    \n",
    "    since = time.time()\n",
    "    model.to(device)\n",
    "    model.train()\n",
    "    \n",
    "    losses = []\n",
    "    for epoch in range(num_epochs):\n",
    "\n",
    "        running_loss = 0.0\n",
    "\n",
    "        for inputs in dataloader:\n",
    "            \n",
    "            inputs = inputs.to(device)\n",
    "            \n",
    "            optimizer.zero_grad()\n",
    "            logp_seq = lstm_loop(model, inputs)\n",
    "            predictions_logp = logp_seq[:, :-1]\n",
    "            actual_next_tokens = inputs[:, 1:]\n",
    "\n",
    "            logp_next = torch.gather(predictions_logp, dim=2, index=actual_next_tokens[:,:,None])\n",
    "\n",
    "            loss = -logp_next.mean()\n",
    "            loss.backward()\n",
    "            \n",
    "            optimizer.step()\n",
    "            optimizer.zero_grad()\n",
    "            running_loss += loss\n",
    "\n",
    "        scheduler.step()\n",
    "\n",
    "        epoch_loss = running_loss / len(dataloader)\n",
    "        losses.append(epoch_loss)\n",
    "        clear_output(True)\n",
    "        plt.plot(losses, label='current loss: {:.2}'.format(epoch_loss))\n",
    "        plt.legend()\n",
    "        plt.show()\n",
    "\n",
    "    time_elapsed = time.time() - since\n",
    "    print('Training complete in {:.0f}m {:.0f}s'.format(\n",
    "        time_elapsed // 60, time_elapsed % 60))\n",
    "    \n",
    "    return model, losses"
   ]
  },
  {
   "cell_type": "code",
   "execution_count": 39,
   "metadata": {
    "colab": {
     "base_uri": "https://localhost:8080/",
     "height": 575
    },
    "colab_type": "code",
    "id": "PoXZdUvV5WtI",
    "outputId": "ed1440a4-d50a-46b4-9f7a-1bbd91603e4c"
   },
   "outputs": [
    {
     "data": {
      "image/png": "[encoded data removed]",
      "text/plain": [
       "<Figure size 432x288 with 1 Axes>"
      ]
     },
     "metadata": {
      "needs_background": "light"
     },
     "output_type": "display_data"
    },
    {
     "name": "stdout",
     "output_type": "stream",
     "text": [
      "Training complete in 10m 60s\n"
     ]
    }
   ],
   "source": [
    "model, losses = train_model(model, criterion, optimizer, scheduler)"
   ]
  },
  {
   "cell_type": "code",
   "execution_count": 40,
   "metadata": {
    "colab": {},
    "colab_type": "code",
    "id": "_f_dICPV5WtL"
   },
   "outputs": [],
   "source": [
    "def generate_text(model, init=' Hide my will', length=256, temperature=1.0):\n",
    "\n",
    "    x_sequence = [token_to_idx[token] for token in init]\n",
    "    x_sequence = torch.tensor([x_sequence], dtype=torch.int64, device=device)\n",
    "    hid_state, cell_state = model.initial_state(batch_size=1)\n",
    "    model.eval()\n",
    "    \n",
    "    for i in range(len(init) - 1):\n",
    "        hid_state, cell_state, _ = model(x_sequence[:, i], hid_state, cell_state)\n",
    "    \n",
    "    for _ in range(length - len(init)):\n",
    "        hid_state, cell_state, logp_next = model(x_sequence[:, -1], hid_state, cell_state)\n",
    "        p_next = F.softmax(logp_next / temperature, dim=-1).data.cpu().numpy()[0]\n",
    "        \n",
    "        next_ix = np.random.choice(len(token_to_idx), p=p_next)\n",
    "        next_ix = torch.tensor([[next_ix]], dtype=torch.int64, device=device)\n",
    "        x_sequence = torch.cat([x_sequence, next_ix], dim=1)\n",
    "        \n",
    "    return ''.join([tokens[ix] for ix in x_sequence.data.cpu().numpy()[0]])"
   ]
  },
  {
   "cell_type": "code",
   "execution_count": 41,
   "metadata": {},
   "outputs": [
    {
     "name": "stdout",
     "output_type": "stream",
     "text": [
      "Generated texts:\n",
      "please, go to the ground;\n",
      "  and for the peace of you i hold such strife\n",
      "  as 'twixt a miser and his \n",
      "--------------------\n",
      "please, go to the grown,\n",
      "  and by a gife, to borrow faith whs i compare thee to alone\n",
      "  the barn, to\n",
      "--------------------\n",
      "please, go to the grown,\n",
      "  and by thee in thee blood,\n",
      "  or made my som the still shall gloy,\n",
      "  in pr\n",
      "--------------------\n",
      "please, go to thy wisht bee lives monest be summer, not shall die-pays\n",
      "  is use rememberat by sumovi\n",
      "--------------------\n",
      "please, go to must ed?li-' fr,h\n",
      "  herlfoound phears, forb(n dowh:-'bri'd,\n",
      "  and not\n",
      "  thy peaiw'; mi\n",
      "--------------------\n"
     ]
    }
   ],
   "source": [
    "print(\"Generated texts:\")\n",
    "\n",
    "for temp in [0.1, 0.2, 0.5, 1.0, 2.0]:\n",
    "    print(generate_text(model, init='please, go to ', length=100, temperature=temp))\n",
    "    print(\"-\"*20)"
   ]
  },
  {
   "cell_type": "markdown",
   "metadata": {
    "colab_type": "text",
    "id": "XT56s8Xo5WtU"
   },
   "source": [
    "Сгенерируйте текст с помощью обученной сети для различных значений параметра `temperature`: `[0.1, 0.2, 0.5, 1.0, 2.0]` (\"температуры\" при генерации). Оцените результаты визуально, попробуйте их проинтерпретировать."
   ]
  },
  {
   "cell_type": "markdown",
   "metadata": {
    "colab_type": "text",
    "id": "xySj0cYk5WtU"
   },
   "source": [
    "Здесь можно оставить свои рассуждения касательно интерпретации результатов."
   ]
  },
  {
   "cell_type": "markdown",
   "metadata": {},
   "source": [
    "Наблюдения: чем больше temperature, тем хуже получается смысл, как я понимаю, вероятность занижмается сигмоидой. "
   ]
  },
  {
   "cell_type": "markdown",
   "metadata": {
    "colab_type": "text",
    "id": "DgVXJgA95WtV"
   },
   "source": [
    "#### Сохранение и загрузка модели\n",
    "\n",
    "Сохраните обученную модель на диск, затем загрузите ее и сгенерируйте текст. Примеры доступны по [ссылке](https://pytorch.org/tutorials/beginner/saving_loading_models.html])."
   ]
  },
  {
   "cell_type": "code",
   "execution_count": null,
   "metadata": {
    "colab": {},
    "colab_type": "code",
    "id": "LO6g_nGn5WtV"
   },
   "outputs": [],
   "source": [
    "torch.save(model.state_dict(), 'model/lstm.pth')"
   ]
  },
  {
   "cell_type": "code",
   "execution_count": null,
   "metadata": {},
   "outputs": [],
   "source": [
    "lstm = LSTM()\n",
    "lstm.load_state_dict(torch.load('model/lstm.pth'))\n",
    "lstm.to(device)\n",
    "\n",
    "print('generate text from loaded model:')\n",
    "print(generate_text(lstm, init='please, go to ', length=100, temperature=1))"
   ]
  },
  {
   "cell_type": "markdown",
   "metadata": {
    "colab_type": "text",
    "id": "89X0DJxV5WtX"
   },
   "source": [
    "Данная часть задания завершена."
   ]
  },
  {
   "cell_type": "markdown",
   "metadata": {
    "colab_type": "text",
    "id": "gJcpAZj55WtX"
   },
   "source": [
    "#### Полезные ссылки\n",
    "1. <a href='http://karpathy.github.io/2015/05/21/rnn-effectiveness/'> Статья Андрея Карпатого про RNN. </a> В качестве примеров рассматриваются задачи генерации Шекспировских текстов, Latex формул, Linux Source Code и детских имен.\n",
    "2. <a href='https://github.com/karpathy/char-rnn'> Репозиторий с кодом по char-rnn </a> (тоже за авторством Андрея Карпатого)\n",
    "3. Полезный репозиторий по PyTorch: [ссылка](https://github.com/spro/practical-pytorch`)"
   ]
  }
 ],
 "metadata": {
  "accelerator": "GPU",
  "anaconda-cloud": {},
  "colab": {
   "name": "Lab2_DL_part2-3.ipynb",
   "provenance": []
  },
  "kernelspec": {
   "display_name": "Python 3",
   "language": "python",
   "name": "python3"
  },
  "language_info": {
   "codemirror_mode": {
    "name": "ipython",
    "version": 3
   },
   "file_extension": ".py",
   "mimetype": "text/x-python",
   "name": "python",
   "nbconvert_exporter": "python",
   "pygments_lexer": "ipython3",
   "version": "3.6.5"
  }
 },
 "nbformat": 4,
 "nbformat_minor": 1
}
