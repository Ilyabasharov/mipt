{
 "cells": [
  {
   "cell_type": "markdown",
   "metadata": {},
   "source": [
    "## Lab 3"
   ]
  },
  {
   "cell_type": "markdown",
   "metadata": {},
   "source": [
    "### Part 1. Overfit it (1.5 points)"
   ]
  },
  {
   "cell_type": "markdown",
   "metadata": {},
   "source": [
    "Будем работать с датасетом [Fashion-MNIST](https://github.com/zalandoresearch/fashion-mnist) (*hint: он доступен в torchvision*).\n",
    "\n",
    "Ваша задача состоит в следующем:\n",
    "1. Обучить сеть, которая покажет >= 0.92 test accuracy.\n",
    "2. Пронаблюдать и продемонстрировать процесс переобучения сети с увеличением числа параметров (==нейронов) и/или числа слоев и продемонстрировать это наглядно (например, на графиках).\n",
    "3. Попробовать частично справиться с переобучением с помощью подходящих приемов (Dropout/batchnorm/augmentation etc.)\n",
    "\n",
    "*Примечание*: Пункты 2 и 3 взаимосвязаны, в п.3 Вам прелагается сделать полученную в п.2 сеть менее склонной к переобучению. Пункт 1 является независимым от пунктов 2 и 3."
   ]
  },
  {
   "cell_type": "markdown",
   "metadata": {},
   "source": [
    "## Used libraries"
   ]
  },
  {
   "cell_type": "code",
   "execution_count": 1,
   "metadata": {},
   "outputs": [],
   "source": [
    "import torchvision\n",
    "from torchvision import transforms, datasets\n",
    "from sklearn.model_selection import train_test_split\n",
    "import matplotlib.pyplot as plt\n",
    "import numpy as np\n",
    "from torch import tensor, nn, optim, exp\n",
    "from torch.utils.data import random_split, DataLoader\n",
    "from tqdm import tqdm_notebook as tqdm"
   ]
  },
  {
   "cell_type": "markdown",
   "metadata": {},
   "source": [
    "### Used constants"
   ]
  },
  {
   "cell_type": "code",
   "execution_count": 2,
   "metadata": {},
   "outputs": [],
   "source": [
    "train_size = 0.8\n",
    "images_mean = tensor([0.5])\n",
    "images_std = tensor([0.5])\n",
    "batch = 64\n",
    "p = 0.2\n",
    "\n",
    "descriptions = (\"T-shirt/top\",\n",
    "                \"Trouser\",\n",
    "                \"Pullover\",\n",
    "                \"Dress\",\n",
    "                \"Coat\",\n",
    "                \"Sandal\",\n",
    "                \"Shirt\",\n",
    "                \"Sneaker\",\n",
    "                \"Bag\",\n",
    "                \"Ankle boot\",\n",
    "                )\n",
    "\n",
    "label_decoder = dict(zip(range(10), descriptions))"
   ]
  },
  {
   "cell_type": "markdown",
   "metadata": {},
   "source": [
    "### Download the dataset and define a dataloader"
   ]
  },
  {
   "cell_type": "code",
   "execution_count": 3,
   "metadata": {},
   "outputs": [],
   "source": [
    "dataset_train = datasets.FashionMNIST(\n",
    "    root = './data/FashionMNIST',\n",
    "    train = True,\n",
    "    download = True,\n",
    "    transform = transforms.Compose([\n",
    "        transforms.ToTensor(),\n",
    "        transforms.Normalize(images_mean, images_std)\n",
    "    ])\n",
    ")\n",
    "\n",
    "dataset_test = datasets.FashionMNIST(\n",
    "    root = './data/FashionMNIST',\n",
    "    train = False,\n",
    "    download = True,\n",
    "    transform = transforms.Compose([\n",
    "        transforms.ToTensor(),\n",
    "        transforms.Normalize(images_mean, images_std)\n",
    "    ])\n",
    ")\n",
    "\n",
    "def define_loaders(dataset_train, dataset_test):\n",
    "    len_data = len(dataset_train)\n",
    "    length_train, length_val = int(len_data*train_size), int(len_data - len_data*train_size)\n",
    "    train, val = random_split(dataset_train, [length_train, length_val])\n",
    "    return DataLoader(train, batch_size=batch, shuffle=True, num_workers=2),\\\n",
    "           DataLoader(val, batch_size=length_val, num_workers=2),\\\n",
    "           DataLoader(dataset_test, batch_size=batch, shuffle=True, num_workers=2),\\\n",
    "\n",
    "train_loader, val_loader, test_loader = define_loaders(dataset_train, dataset_test)"
   ]
  },
  {
   "cell_type": "markdown",
   "metadata": {},
   "source": [
    "### View images"
   ]
  },
  {
   "cell_type": "code",
   "execution_count": 4,
   "metadata": {},
   "outputs": [
    {
     "data": {
      "image/png": "[encoded data removed]",
      "text/plain": [
       "<Figure size 432x288 with 1 Axes>"
      ]
     },
     "metadata": {
      "needs_background": "light"
     },
     "output_type": "display_data"
    }
   ],
   "source": [
    "def imshow(img, label):\n",
    "    img = img * images_std.item() + images_mean.item()\n",
    "    img = img.squeeze()\n",
    "    plt.imshow(img, cmap='gray')\n",
    "    plt.title(label_decoder[label[0].item()])\n",
    "    \n",
    "images, label = next(iter(train_loader))\n",
    "imshow(images[0, :], label)"
   ]
  },
  {
   "cell_type": "markdown",
   "metadata": {},
   "source": [
    "### Train function"
   ]
  },
  {
   "cell_type": "code",
   "execution_count": 5,
   "metadata": {},
   "outputs": [],
   "source": [
    "def train_network(net, criterion, epochs, l_rate, decay):\n",
    "    train_loss = []\n",
    "    val_loss = []\n",
    "    optimizer = optim.Adam(net.parameters(), lr = l_rate, weight_decay = decay)\n",
    "    \n",
    "    for i in tqdm(range(epochs)):\n",
    "        running_classification_loss = 0\n",
    "        running_cycle_consistent_loss = 0\n",
    "        running_loss = 0\n",
    "        \n",
    "        if i == 40:\n",
    "            optimizer = optim.Adam(net.parameters(), lr = l_rate/20, weight_decay = decay/10)\n",
    "            \n",
    "        for images, labels in train_loader:\n",
    "            net.train(True)\n",
    "            optimizer.zero_grad()\n",
    "\n",
    "            # Run classification model\n",
    "            predicted_labels = net(images)\n",
    "            classification_loss = criterion(Flatten()(predicted_labels), labels)\n",
    "\n",
    "            # Optimize classification weights\n",
    "            classification_loss.backward()\n",
    "            optimizer.step()\n",
    "\n",
    "            running_classification_loss += classification_loss.item()\n",
    "            running_loss = running_classification_loss\n",
    "        else:\n",
    "            net.train(False)\n",
    "            train_loss.append(running_loss/len(train_loader))\n",
    "            images, labels = next(iter(val_loader))\n",
    "            predicted_labels = net(images)\n",
    "            val_loss.append(criterion(Flatten()(predicted_labels), labels).item()/len(val_loader))\n",
    "            \n",
    "    return train_loss, val_loss"
   ]
  },
  {
   "cell_type": "markdown",
   "metadata": {},
   "source": [
    "### Evaluate function"
   ]
  },
  {
   "cell_type": "code",
   "execution_count": 6,
   "metadata": {},
   "outputs": [],
   "source": [
    "def evaluate(net):\n",
    "    total_correct = 0\n",
    "    total_num = 0\n",
    "    for images, labels in test_loader:\n",
    "        net.train(False)\n",
    "        ps = Flatten()(exp(net(images)))\n",
    "        predictions = ps.topk(1, 1, True, True)[1].t()\n",
    "        correct = predictions.eq(labels.view(1, -1))\n",
    "\n",
    "        total_correct += correct.sum().cpu().numpy()\n",
    "        total_num += images.shape[0]\n",
    "        \n",
    "    return total_correct / float(total_num)"
   ]
  },
  {
   "cell_type": "markdown",
   "metadata": {},
   "source": [
    "### Define the networks"
   ]
  },
  {
   "cell_type": "code",
   "execution_count": 7,
   "metadata": {},
   "outputs": [],
   "source": [
    "class Flatten(nn.Module):\n",
    "    def forward(self, input):\n",
    "        return input.view(input.size(0), -1)\n",
    "\n",
    "basic_net = nn.Sequential(\n",
    "    nn.Conv2d(1, 4, 4, stride=2),\n",
    "    nn.LeakyReLU(),\n",
    "    nn.Conv2d(4, 8, 3, stride=2),\n",
    "    Flatten(),\n",
    "    nn.Linear(8*6*6, 10),\n",
    "    nn.LeakyReLU(),\n",
    "    nn.LogSoftmax(dim=1)\n",
    ")\n",
    "\n",
    "updated_net = nn.Sequential(\n",
    "    nn.Conv2d(1, 32, 4, stride=2),\n",
    "    nn.LeakyReLU(),\n",
    "    nn.BatchNorm2d(32),\n",
    "    nn.Dropout(p),\n",
    "    nn.Conv2d(32, 64, 3, stride=2),\n",
    "    nn.LeakyReLU(),\n",
    "    nn.BatchNorm2d(64),\n",
    "    nn.Conv2d(64, 128, 2, stride=2),\n",
    "    Flatten(),\n",
    "    nn.Linear(128*9, 512),\n",
    "    nn.LeakyReLU(),\n",
    "    nn.Dropout(p),\n",
    "    nn.Linear(512, 256),\n",
    "    nn.LeakyReLU(),\n",
    "    nn.Dropout(p),\n",
    "    nn.Linear(256, 100),\n",
    "    nn.LeakyReLU(),\n",
    "    nn.Dropout(p),\n",
    "    nn.Linear(100, 10),\n",
    "    nn.LeakyReLU(),\n",
    "    nn.LogSoftmax(dim=1)\n",
    ")\n",
    "\n",
    "criterion = nn.NLLLoss()\n",
    "epochs = 50"
   ]
  },
  {
   "cell_type": "markdown",
   "metadata": {},
   "source": [
    "### Show results"
   ]
  },
  {
   "cell_type": "code",
   "execution_count": 8,
   "metadata": {},
   "outputs": [
    {
     "data": {
      "application/vnd.jupyter.widget-view+json": {
       "model_id": "70ec26220e9e40d78ec0b6418fc11b21",
       "version_major": 2,
       "version_minor": 0
      },
      "text/plain": [
       "HBox(children=(IntProgress(value=0, max=50), HTML(value='')))"
      ]
     },
     "metadata": {},
     "output_type": "display_data"
    },
    {
     "name": "stdout",
     "output_type": "stream",
     "text": [
      "\n"
     ]
    },
    {
     "data": {
      "application/vnd.jupyter.widget-view+json": {
       "model_id": "87623f7ffadc470688ae902c0a1b40cb",
       "version_major": 2,
       "version_minor": 0
      },
      "text/plain": [
       "HBox(children=(IntProgress(value=0, max=50), HTML(value='')))"
      ]
     },
     "metadata": {},
     "output_type": "display_data"
    },
    {
     "name": "stdout",
     "output_type": "stream",
     "text": [
      "\n"
     ]
    },
    {
     "data": {
      "image/png": "[encoded data removed]",
      "text/plain": [
       "<Figure size 720x720 with 2 Axes>"
      ]
     },
     "metadata": {
      "needs_background": "light"
     },
     "output_type": "display_data"
    }
   ],
   "source": [
    "fig, ax = plt.subplots(1, 2, figsize=(10,10))\n",
    "fig.suptitle('Compare basic and updated networks')\n",
    "for i in range(2):\n",
    "    net = basic_net if i == 0 else updated_net\n",
    "    train, val = train_network(net, criterion, epochs, 1e-3, 1e-3)\n",
    "    ax[i].plot(train, label='train')\n",
    "    ax[i].plot(val, label='val')\n",
    "    ax[i].set_title('Result: accuracy: ' + str(evaluate(net)))\n",
    "    ax[i].legend()\n",
    "    ax[i].grid()\n",
    "\n",
    "plt.show()"
   ]
  },
  {
   "cell_type": "markdown",
   "metadata": {},
   "source": [
    "### As u can see, i have achieved more than 92% quality using Batchnorm and dropout. I also made comparisons between a simple network and a network using regularizations and gave training schedules"
   ]
  }
 ],
 "metadata": {
  "anaconda-cloud": {},
  "kernelspec": {
   "display_name": "Python 3",
   "language": "python",
   "name": "python3"
  },
  "language_info": {
   "codemirror_mode": {
    "name": "ipython",
    "version": 3
   },
   "file_extension": ".py",
   "mimetype": "text/x-python",
   "name": "python",
   "nbconvert_exporter": "python",
   "pygments_lexer": "ipython3",
   "version": "3.7.3"
  }
 },
 "nbformat": 4,
 "nbformat_minor": 2
}
